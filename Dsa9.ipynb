{
  "nbformat": 4,
  "nbformat_minor": 0,
  "metadata": {
    "colab": {
      "provenance": [],
      "authorship_tag": "ABX9TyMNbxfzlG7wRViMxQe7Go53",
      "include_colab_link": true
    },
    "kernelspec": {
      "name": "python3",
      "display_name": "Python 3"
    },
    "language_info": {
      "name": "python"
    }
  },
  "cells": [
    {
      "cell_type": "markdown",
      "metadata": {
        "id": "view-in-github",
        "colab_type": "text"
      },
      "source": [
        "<a href=\"https://colab.research.google.com/github/RakeshMishra26mgh/Dsa9/blob/main/Dsa9.ipynb\" target=\"_parent\"><img src=\"https://colab.research.google.com/assets/colab-badge.svg\" alt=\"Open In Colab\"/></a>"
      ]
    },
    {
      "cell_type": "markdown",
      "source": [
        "Answer 1:-"
      ],
      "metadata": {
        "id": "bxBmajA1j6w7"
      }
    },
    {
      "cell_type": "code",
      "source": [
        "def is_power_of_two(n):\n",
        "  if not isinstance(n, int) or n <= 0:\n",
        "    return False\n",
        "  return (n & (n - 1)) == 0\n",
        "\n",
        "n = input(\"Enter an integer: \")\n",
        "try:\n",
        "  n = int(n)\n",
        "  print(is_power_of_two(n))\n",
        "except ValueError:\n",
        "  print(\"Invalid input. Please enter an integer.\")\n"
      ],
      "metadata": {
        "id": "jXOPQr64j9rB"
      },
      "execution_count": null,
      "outputs": []
    },
    {
      "cell_type": "markdown",
      "source": [
        "Answer 2:-"
      ],
      "metadata": {
        "id": "fycWeNDRGNrs"
      }
    },
    {
      "cell_type": "code",
      "source": [
        "def sum_of_natural_numbers(n):\n",
        "  if not isinstance(n, int) or n <= 0:\n",
        "    return 0\n",
        "  return n * (n + 1) // 2\n",
        "\n",
        "n = input(\"Enter a number: \")\n",
        "try:\n",
        "  n = int(n)\n",
        "  print(sum_of_natural_numbers(n))\n",
        "except ValueError:\n",
        "  print(\"Invalid input. Please enter a number.\")\n"
      ],
      "metadata": {
        "id": "dR3pWU8LGQgj"
      },
      "execution_count": null,
      "outputs": []
    },
    {
      "cell_type": "markdown",
      "source": [
        "Answer 3:-"
      ],
      "metadata": {
        "id": "6NXTPdJlHARi"
      }
    },
    {
      "cell_type": "code",
      "source": [
        "def factorial(n):\n",
        "  if not isinstance(n, int) or n <= 0:\n",
        "    return 0\n",
        "  if n == 1:\n",
        "    return 1\n",
        "  else:\n",
        "    return n * factorial(n - 1)\n",
        "\n",
        "n = input(\"Enter a positive integer: \")\n",
        "try:\n",
        "  n = int(n)\n",
        "  print(factorial(n))\n",
        "except ValueError:\n",
        "  print(\"Invalid input. Please enter a positive integer.\")\n"
      ],
      "metadata": {
        "id": "UlKn7VMHHCXU"
      },
      "execution_count": null,
      "outputs": []
    },
    {
      "cell_type": "markdown",
      "source": [
        "Answer 4:-"
      ],
      "metadata": {
        "id": "YoalLFBOIDNp"
      }
    },
    {
      "cell_type": "code",
      "source": [
        "def exponent(n, p):\n",
        "  if not (isinstance(n, int) or isinstance(n, float)) or not (isinstance(p, int) or isinstance(p, float)):\n",
        "    return 0\n",
        "  return pow(n, p)\n",
        "\n",
        "n = input(\"Enter a number: \")\n",
        "p = input(\"Enter a power: \")\n",
        "try:\n",
        "  n = float(n)\n",
        "  p = float(p)\n",
        "  print(exponent(n, p))\n",
        "except ValueError:\n",
        "  print(\"Invalid inputs. Please enter numbers.\")\n"
      ],
      "metadata": {
        "id": "Jq7ZqEzrIFix"
      },
      "execution_count": null,
      "outputs": []
    },
    {
      "cell_type": "markdown",
      "source": [
        "Answer 5:-"
      ],
      "metadata": {
        "id": "lPYjHL2cIl1Q"
      }
    },
    {
      "cell_type": "code",
      "source": [
        "def max_element(arr, n):\n",
        "  if n == 0:\n",
        "    return None\n",
        "  if n == 1:\n",
        "    return arr[0]\n",
        "  else:\n",
        "    return max(arr[n - 1], max_element(arr, n - 1))\n",
        "\n",
        "input_str = input(\"Enter a list of integers separated by commas: \")\n",
        "try:\n",
        "  arr = [int(x) for x in input_str.split(\",\")]\n",
        "  n = len(arr)\n",
        "  print(max_element(arr, n))\n",
        "except ValueError:\n",
        "  print(\"Invalid input. Please enter a list of integers separated by commas.\")\n"
      ],
      "metadata": {
        "id": "5VAiXC1JIoNZ"
      },
      "execution_count": null,
      "outputs": []
    },
    {
      "cell_type": "markdown",
      "source": [
        "Answer 6:-"
      ],
      "metadata": {
        "id": "-7A4Rum6Kejo"
      }
    },
    {
      "cell_type": "code",
      "source": [
        "def nth_term(a, d, n):\n",
        "  if not (isinstance(a, int) or isinstance(a, float)) or not (isinstance(d, int) or isinstance(d, float)) or not (isinstance(n, int) or isinstance(n, float)):\n",
        "    return None\n",
        "  return a + (n - 1) * d\n",
        "\n",
        "a = input(\"Enter the first term: \")\n",
        "d = input(\"Enter the common difference: \")\n",
        "n = input(\"Enter the term number: \")\n",
        "try:\n",
        "  a = float(a)\n",
        "  d = float(d)\n",
        "  n = float(n)\n",
        "  print(nth_term(a, d, n))\n",
        "except ValueError:\n",
        "  print(\"Invalid inputs. Please enter numbers.\")\n"
      ],
      "metadata": {
        "id": "G6fJLEVNKk1-"
      },
      "execution_count": null,
      "outputs": []
    },
    {
      "cell_type": "markdown",
      "source": [
        "Answer 7:-"
      ],
      "metadata": {
        "id": "Vncvcx-0LzEH"
      }
    },
    {
      "cell_type": "code",
      "source": [
        "def permutations(s, l, r):\n",
        "  if l == r:\n",
        "    print(s)\n",
        "  else:\n",
        "    for i in range(l, r + 1):\n",
        "      s = swap(s, l, i)\n",
        "      permutations(s, l + 1, r)\n",
        "      s = swap(s, l, i)\n",
        "\n",
        "def swap(s, i, j):\n",
        "  s = list(s)\n",
        "  s[i], s[j] = s[j], s[i]\n",
        "  return \"\".join(s)\n",
        "\n",
        "s = input(\"Enter a string: \")\n",
        "n = len(s)\n",
        "permutations(s, 0, n - 1)\n"
      ],
      "metadata": {
        "id": "ZMBQm6jZL1AQ"
      },
      "execution_count": null,
      "outputs": []
    },
    {
      "cell_type": "markdown",
      "source": [
        "Answer 8:-"
      ],
      "metadata": {
        "id": "L1rZ6KuJMiKv"
      }
    },
    {
      "cell_type": "code",
      "source": [
        "def product_of_array(arr):\n",
        "  product = 1\n",
        "  for x in arr:\n",
        "    product = product * x\n",
        "  return product\n",
        "\n",
        "input_str = input(\"Enter a list of numbers separated by commas: \")\n",
        "try:\n",
        "  arr = [float(x) for x in input_str.split(\",\")]\n",
        "  print(product_of_array(arr))\n",
        "except ValueError:\n",
        "  print(\"Invalid input. Please enter a list of numbers separated by commas.\")\n"
      ],
      "metadata": {
        "id": "SRIAuszPMk7H"
      },
      "execution_count": null,
      "outputs": []
    }
  ]
}